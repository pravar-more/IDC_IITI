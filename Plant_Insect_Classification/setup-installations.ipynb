{
 "cells": [
  {
   "cell_type": "markdown",
   "id": "095a2bfb",
   "metadata": {},
   "source": [
    "# 1. For setting the requiremnt by pipreqs module automaticaly determines the modules needed to be installed \n",
    "#### `in the (venv)`\n",
    "Link: [YT tutorial](https://www.youtube.com/watch?v=uldlsT98Bbs&list=PLeo1K3hjS3ut49PskOfLnE6WUoOp_2lsD&index=5)\n",
    "[GITHUB LINK](https://github.com/codebasics/potato-disease-classification/tree/main/)\n",
    "\n",
    "### run these comands in the comand prompt of the respective directory\n",
    "```shell \n",
    "     if want to run from the notebook before each command add '!' to turn it into a bash command\n",
    "     # requirements.txt\n",
    "```"
   ]
  },
  {
   "cell_type": "code",
   "execution_count": 1,
   "id": "8bd70112",
   "metadata": {
    "scrolled": true
   },
   "outputs": [
    {
     "name": "stdout",
     "output_type": "stream",
     "text": [
      "Package                      Version   Editable project location\n",
      "---------------------------- --------- -----------------------------------------------------------------------------\n",
      "absl-py                      1.2.0\n",
      "asttokens                    2.0.5\n",
      "astunparse                   1.6.3\n",
      "backcall                     0.2.0\n",
      "cachetools                   5.2.0\n",
      "certifi                      2022.6.15\n",
      "charset-normalizer           2.1.0\n",
      "colorama                     0.4.5\n",
      "cycler                       0.11.0\n",
      "Cython                       0.29.31\n",
      "debugpy                      1.6.2\n",
      "decorator                    5.1.1\n",
      "entrypoints                  0.4\n",
      "executing                    0.9.1\n",
      "flatbuffers                  1.12\n",
      "fonttools                    4.34.4\n",
      "gast                         0.4.0\n",
      "google-auth                  2.9.1\n",
      "google-auth-oauthlib         0.4.6\n",
      "google-pasta                 0.2.0\n",
      "grpcio                       1.47.0\n",
      "h5py                         3.7.0\n",
      "idna                         3.3\n",
      "ipykernel                    6.15.1\n",
      "ipython                      8.4.0\n",
      "jedi                         0.18.1\n",
      "jupyter-client               7.3.4\n",
      "jupyter-core                 4.11.1\n",
      "keras                        2.9.0\n",
      "Keras-Preprocessing          1.1.2\n",
      "kiwisolver                   1.4.4\n",
      "libclang                     14.0.1\n",
      "lvis                         0.5.3\n",
      "Markdown                     3.4.1\n",
      "MarkupSafe                   2.1.1\n",
      "matplotlib                   3.5.2\n",
      "matplotlib-inline            0.1.3\n",
      "nest-asyncio                 1.5.5\n",
      "numpy                        1.23.1\n",
      "oauthlib                     3.2.0\n",
      "object-detection             0.1\n",
      "opencv-python                4.6.0.66\n",
      "opt-einsum                   3.3.0\n",
      "packaging                    21.3\n",
      "pandas                       1.4.3\n",
      "parso                        0.8.3\n",
      "pickleshare                  0.7.5\n",
      "Pillow                       9.2.0\n",
      "pip                          22.2.1\n",
      "prompt-toolkit               3.0.30\n",
      "protobuf                     3.19.4\n",
      "psutil                       5.9.1\n",
      "pure-eval                    0.2.2\n",
      "pyasn1                       0.4.8\n",
      "pyasn1-modules               0.2.8\n",
      "Pygments                     2.12.0\n",
      "pyparsing                    3.0.9\n",
      "python-dateutil              2.8.2\n",
      "pytz                         2022.1\n",
      "pywin32                      304\n",
      "PyYAML                       6.0\n",
      "pyzmq                        23.2.0\n",
      "requests                     2.28.1\n",
      "requests-oauthlib            1.3.1\n",
      "rsa                          4.9\n",
      "scipy                        1.8.1\n",
      "setuptools                   58.1.0\n",
      "six                          1.16.0\n",
      "slim                         0.1       d:\\self\\tensorflow-objectdetection\\tfodcourse\\tensorflow\\models\\research\\slim\n",
      "stack-data                   0.3.0\n",
      "tensorboard                  2.9.1\n",
      "tensorboard-data-server      0.6.1\n",
      "tensorboard-plugin-wit       1.8.1\n",
      "tensorflow                   2.9.1\n",
      "tensorflow-estimator         2.9.0\n",
      "tensorflow-io                0.26.0\n",
      "tensorflow-io-gcs-filesystem 0.26.0\n",
      "termcolor                    1.1.0\n",
      "tf-models-official           2.9.2\n",
      "tf-slim                      1.1.0\n",
      "tornado                      6.2\n",
      "traitlets                    5.3.0\n",
      "typing_extensions            4.3.0\n",
      "urllib3                      1.26.11\n",
      "wcwidth                      0.2.5\n",
      "Werkzeug                     2.2.1\n",
      "wget                         3.2\n",
      "wheel                        0.37.1\n",
      "wrapt                        1.14.1\n",
      "Note: you may need to restart the kernel to use updated packages.\n"
     ]
    },
    {
     "name": "stderr",
     "output_type": "stream",
     "text": [
      "WARNING: Ignoring invalid distribution -rotobuf (d:\\self\\tensorflow-objectdetection\\tfodcourse\\tfod-venv\\lib\\site-packages)\n",
      "WARNING: Ignoring invalid distribution -rotobuf (d:\\self\\tensorflow-objectdetection\\tfodcourse\\tfod-venv\\lib\\site-packages)\n",
      "WARNING: Ignoring invalid distribution -rotobuf (d:\\self\\tensorflow-objectdetection\\tfodcourse\\tfod-venv\\lib\\site-packages)\n",
      "WARNING: Ignoring invalid distribution -rotobuf (d:\\self\\tensorflow-objectdetection\\tfodcourse\\tfod-venv\\lib\\site-packages)\n",
      "\n",
      "[notice] A new release of pip available: 22.2.1 -> 22.2.2\n",
      "[notice] To update, run: python.exe -m pip install --upgrade pip\n"
     ]
    }
   ],
   "source": [
    "pip list"
   ]
  },
  {
   "cell_type": "code",
   "execution_count": 3,
   "id": "d5da93b3",
   "metadata": {},
   "outputs": [
    {
     "name": "stdout",
     "output_type": "stream",
     "text": [
      "Requirement already satisfied: pip in d:\\self\\tensorflow-objectdetection\\tfodcourse\\tfod-venv\\lib\\site-packages (22.2.1)\n",
      "Collecting pip\n",
      "  Downloading pip-22.2.2-py3-none-any.whl (2.0 MB)\n",
      "     ---------------------------------------- 2.0/2.0 MB 3.5 MB/s eta 0:00:00\n",
      "Installing collected packages: pip\n",
      "  Attempting uninstall: pip\n",
      "    Found existing installation: pip 22.2.1\n",
      "    Uninstalling pip-22.2.1:\n",
      "      Successfully uninstalled pip-22.2.1\n",
      "Successfully installed pip-22.2.2\n"
     ]
    },
    {
     "name": "stderr",
     "output_type": "stream",
     "text": [
      "WARNING: Ignoring invalid distribution -rotobuf (d:\\self\\tensorflow-objectdetection\\tfodcourse\\tfod-venv\\lib\\site-packages)\n",
      "WARNING: Ignoring invalid distribution -rotobuf (d:\\self\\tensorflow-objectdetection\\tfodcourse\\tfod-venv\\lib\\site-packages)\n",
      "WARNING: Ignoring invalid distribution -rotobuf (d:\\self\\tensorflow-objectdetection\\tfodcourse\\tfod-venv\\lib\\site-packages)\n",
      "    WARNING: Ignoring invalid distribution -rotobuf (d:\\self\\tensorflow-objectdetection\\tfodcourse\\tfod-venv\\lib\\site-packages)\n",
      "WARNING: Ignoring invalid distribution -rotobuf (d:\\self\\tensorflow-objectdetection\\tfodcourse\\tfod-venv\\lib\\site-packages)\n",
      "WARNING: Ignoring invalid distribution -rotobuf (d:\\self\\tensorflow-objectdetection\\tfodcourse\\tfod-venv\\lib\\site-packages)\n",
      "WARNING: Ignoring invalid distribution -rotobuf (d:\\self\\tensorflow-objectdetection\\tfodcourse\\tfod-venv\\lib\\site-packages)\n",
      "WARNING: Ignoring invalid distribution -rotobuf (d:\\self\\tensorflow-objectdetection\\tfodcourse\\tfod-venv\\lib\\site-packages)\n"
     ]
    }
   ],
   "source": [
    "!python -m pip install --upgrade pip"
   ]
  },
  {
   "cell_type": "code",
   "execution_count": 4,
   "id": "77bdbc9e",
   "metadata": {},
   "outputs": [
    {
     "name": "stdout",
     "output_type": "stream",
     "text": [
      "Collecting pipreqs\n",
      "  Using cached pipreqs-0.4.11-py2.py3-none-any.whl (32 kB)\n",
      "Collecting yarg\n",
      "  Using cached yarg-0.1.9-py2.py3-none-any.whl (19 kB)\n",
      "Collecting docopt\n",
      "  Using cached docopt-0.6.2.tar.gz (25 kB)\n",
      "  Preparing metadata (setup.py): started\n",
      "  Preparing metadata (setup.py): finished with status 'done'\n",
      "Requirement already satisfied: requests in d:\\self\\tensorflow-objectdetection\\tfodcourse\\tfod-venv\\lib\\site-packages (from yarg->pipreqs) (2.28.1)\n",
      "Requirement already satisfied: charset-normalizer<3,>=2 in d:\\self\\tensorflow-objectdetection\\tfodcourse\\tfod-venv\\lib\\site-packages (from requests->yarg->pipreqs) (2.1.0)\n",
      "Requirement already satisfied: certifi>=2017.4.17 in d:\\self\\tensorflow-objectdetection\\tfodcourse\\tfod-venv\\lib\\site-packages (from requests->yarg->pipreqs) (2022.6.15)\n",
      "Requirement already satisfied: idna<4,>=2.5 in d:\\self\\tensorflow-objectdetection\\tfodcourse\\tfod-venv\\lib\\site-packages (from requests->yarg->pipreqs) (3.3)\n",
      "Requirement already satisfied: urllib3<1.27,>=1.21.1 in d:\\self\\tensorflow-objectdetection\\tfodcourse\\tfod-venv\\lib\\site-packages (from requests->yarg->pipreqs) (1.26.11)\n",
      "Building wheels for collected packages: docopt\n",
      "  Building wheel for docopt (setup.py): started\n",
      "  Building wheel for docopt (setup.py): finished with status 'done'\n",
      "  Created wheel for docopt: filename=docopt-0.6.2-py2.py3-none-any.whl size=13723 sha256=5eb701edbdd42eaa303d40e9f44b0d56234403c93d97429db0c54cd31231ca96\n",
      "  Stored in directory: c:\\users\\admin\\appdata\\local\\pip\\cache\\wheels\\fc\\ab\\d4\\5da2067ac95b36618c629a5f93f809425700506f72c9732fac\n",
      "Successfully built docopt\n",
      "Installing collected packages: docopt, yarg, pipreqs\n",
      "Successfully installed docopt-0.6.2 pipreqs-0.4.11 yarg-0.1.9\n"
     ]
    },
    {
     "name": "stderr",
     "output_type": "stream",
     "text": [
      "WARNING: Ignoring invalid distribution -rotobuf (d:\\self\\tensorflow-objectdetection\\tfodcourse\\tfod-venv\\lib\\site-packages)\n",
      "WARNING: Ignoring invalid distribution -rotobuf (d:\\self\\tensorflow-objectdetection\\tfodcourse\\tfod-venv\\lib\\site-packages)\n",
      "WARNING: Ignoring invalid distribution -rotobuf (d:\\self\\tensorflow-objectdetection\\tfodcourse\\tfod-venv\\lib\\site-packages)\n",
      "WARNING: Ignoring invalid distribution -rotobuf (d:\\self\\tensorflow-objectdetection\\tfodcourse\\tfod-venv\\lib\\site-packages)\n",
      "WARNING: Ignoring invalid distribution -rotobuf (d:\\self\\tensorflow-objectdetection\\tfodcourse\\tfod-venv\\lib\\site-packages)\n",
      "WARNING: Ignoring invalid distribution -rotobuf (d:\\self\\tensorflow-objectdetection\\tfodcourse\\tfod-venv\\lib\\site-packages)\n",
      "WARNING: Ignoring invalid distribution -rotobuf (d:\\self\\tensorflow-objectdetection\\tfodcourse\\tfod-venv\\lib\\site-packages)\n",
      "WARNING: Ignoring invalid distribution -rotobuf (d:\\self\\tensorflow-objectdetection\\tfodcourse\\tfod-venv\\lib\\site-packages)\n",
      "WARNING: Ignoring invalid distribution -rotobuf (d:\\self\\tensorflow-objectdetection\\tfodcourse\\tfod-venv\\lib\\site-packages)\n"
     ]
    }
   ],
   "source": [
    "!pip install pipreqs"
   ]
  },
  {
   "cell_type": "code",
   "execution_count": 6,
   "id": "8eea5559",
   "metadata": {},
   "outputs": [
    {
     "name": "stderr",
     "output_type": "stream",
     "text": [
      "INFO: Successfully saved requirements file in D:\\SELF\\TensorFlow-ObjectDetection\\insectObjectDetection\\requirements.txt\n"
     ]
    }
   ],
   "source": [
    "!pipreqs"
   ]
  },
  {
   "cell_type": "markdown",
   "id": "ac23c6e9",
   "metadata": {},
   "source": [
    "# 2. To run the requirement.txt file now"
   ]
  },
  {
   "cell_type": "code",
   "execution_count": 7,
   "id": "6d3f8cf4",
   "metadata": {},
   "outputs": [
    {
     "name": "stderr",
     "output_type": "stream",
     "text": [
      "WARNING: Ignoring invalid distribution -rotobuf (d:\\self\\tensorflow-objectdetection\\tfodcourse\\tfod-venv\\lib\\site-packages)\n",
      "WARNING: Ignoring invalid distribution -rotobuf (d:\\self\\tensorflow-objectdetection\\tfodcourse\\tfod-venv\\lib\\site-packages)\n",
      "WARNING: Ignoring invalid distribution -rotobuf (d:\\self\\tensorflow-objectdetection\\tfodcourse\\tfod-venv\\lib\\site-packages)\n",
      "WARNING: Ignoring invalid distribution -rotobuf (d:\\self\\tensorflow-objectdetection\\tfodcourse\\tfod-venv\\lib\\site-packages)\n",
      "WARNING: Ignoring invalid distribution -rotobuf (d:\\self\\tensorflow-objectdetection\\tfodcourse\\tfod-venv\\lib\\site-packages)\n",
      "WARNING: Ignoring invalid distribution -rotobuf (d:\\self\\tensorflow-objectdetection\\tfodcourse\\tfod-venv\\lib\\site-packages)\n"
     ]
    }
   ],
   "source": [
    "!pip install -r requirements.txt"
   ]
  },
  {
   "cell_type": "markdown",
   "id": "5790a9a6",
   "metadata": {},
   "source": [
    "## SETUP REACT"
   ]
  },
  {
   "cell_type": "code",
   "execution_count": null,
   "id": "0774b523",
   "metadata": {},
   "outputs": [],
   "source": [
    "Install Nodejs (https://nodejs.org/en/download/package-manager/)\n",
    "Install NPM (npm install -g npm  =>in cmd)"
   ]
  },
  {
   "cell_type": "code",
   "execution_count": null,
   "id": "a2cb750a",
   "metadata": {},
   "outputs": [],
   "source": [
    "cd frontend\n",
    "npm install --from-lock-json\n",
    "npm audit fix"
   ]
  },
  {
   "cell_type": "markdown",
   "id": "8d56e353",
   "metadata": {},
   "source": [
    "##### In the frontend dir\n",
    "\n",
    "Copy `.env.example` as `.env`.\n",
    "\n",
    "Change API url in `.env`."
   ]
  },
  {
   "cell_type": "code",
   "execution_count": null,
   "id": "32e79c29",
   "metadata": {},
   "outputs": [],
   "source": [
    "!npm run start"
   ]
  },
  {
   "cell_type": "markdown",
   "id": "2b7ab590",
   "metadata": {},
   "source": [
    "## For the Fast API"
   ]
  },
  {
   "cell_type": "code",
   "execution_count": null,
   "id": "0c2c5214",
   "metadata": {},
   "outputs": [],
   "source": [
    "! pip install uvicorn\n"
   ]
  },
  {
   "cell_type": "code",
   "execution_count": null,
   "id": "6d952b38",
   "metadata": {},
   "outputs": [],
   "source": [
    "!pip install fastapi\n"
   ]
  },
  {
   "cell_type": "code",
   "execution_count": null,
   "id": "b5e81fc6",
   "metadata": {},
   "outputs": [],
   "source": [
    "npm install react-scripts "
   ]
  }
 ],
 "metadata": {
  "kernelspec": {
   "display_name": "tfod-venv",
   "language": "python",
   "name": "tfod-venv"
  },
  "language_info": {
   "codemirror_mode": {
    "name": "ipython",
    "version": 3
   },
   "file_extension": ".py",
   "mimetype": "text/x-python",
   "name": "python",
   "nbconvert_exporter": "python",
   "pygments_lexer": "ipython3",
   "version": "3.10.5"
  }
 },
 "nbformat": 4,
 "nbformat_minor": 5
}
