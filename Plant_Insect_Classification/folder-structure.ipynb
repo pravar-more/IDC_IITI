{
 "cells": [
  {
   "cell_type": "code",
   "execution_count": 1,
   "id": "0adbced7",
   "metadata": {},
   "outputs": [
    {
     "data": {
      "text/plain": [
       "'D:\\\\SELF\\\\TensorFlow-ObjectDetection\\\\InsectDetection_TransferLearning'"
      ]
     },
     "execution_count": 1,
     "metadata": {},
     "output_type": "execute_result"
    }
   ],
   "source": [
    "pwd"
   ]
  },
  {
   "cell_type": "code",
   "execution_count": 2,
   "id": "d1f467bd",
   "metadata": {},
   "outputs": [],
   "source": [
    "!mkdir annotations exported-model res models pre-trained-models"
   ]
  },
  {
   "cell_type": "code",
   "execution_count": 3,
   "id": "435e3a89",
   "metadata": {},
   "outputs": [
    {
     "name": "stdout",
     "output_type": "stream",
     "text": [
      "D:\\SELF\\TensorFlow-ObjectDetection\\InsectDetection_TransferLearning\\res\n"
     ]
    }
   ],
   "source": [
    "cd res"
   ]
  },
  {
   "cell_type": "code",
   "execution_count": 4,
   "id": "a5eb682c",
   "metadata": {},
   "outputs": [],
   "source": [
    "!mkdir images labels"
   ]
  },
  {
   "cell_type": "code",
   "execution_count": 5,
   "id": "82c453fa",
   "metadata": {},
   "outputs": [],
   "source": [
    "!mkdir test train "
   ]
  },
  {
   "cell_type": "code",
   "execution_count": 6,
   "id": "ebd637e7",
   "metadata": {},
   "outputs": [
    {
     "name": "stdout",
     "output_type": "stream",
     "text": [
      "D:\\SELF\\TensorFlow-ObjectDetection\\InsectDetection_TransferLearning\n"
     ]
    }
   ],
   "source": [
    "cd .."
   ]
  },
  {
   "cell_type": "code",
   "execution_count": null,
   "id": "ee7b88bd",
   "metadata": {},
   "outputs": [],
   "source": []
  },
  {
   "cell_type": "code",
   "execution_count": null,
   "id": "119984b5",
   "metadata": {},
   "outputs": [],
   "source": []
  },
  {
   "cell_type": "code",
   "execution_count": null,
   "id": "be85df75",
   "metadata": {},
   "outputs": [],
   "source": []
  }
 ],
 "metadata": {
  "kernelspec": {
   "display_name": "tfod-venv",
   "language": "python",
   "name": "tfod-venv"
  },
  "language_info": {
   "codemirror_mode": {
    "name": "ipython",
    "version": 3
   },
   "file_extension": ".py",
   "mimetype": "text/x-python",
   "name": "python",
   "nbconvert_exporter": "python",
   "pygments_lexer": "ipython3",
   "version": "3.10.5"
  }
 },
 "nbformat": 4,
 "nbformat_minor": 5
}
